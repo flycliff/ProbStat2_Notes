{
 "cells": [
  {
   "cell_type": "markdown",
   "source": [
    "# MATH252 Probability and Statistics II\n",
    "# Week 4 - Sampling Distributions and Probability Plots\n",
    "Rochester Institute of Technology\n",
    "\n",
    "Fall 2020\n",
    "\n",
    "Will Clifford"
   ],
   "metadata": {
    "collapsed": false
   }
  },
  {
   "cell_type": "code",
   "execution_count": 1,
   "outputs": [],
   "source": [
    "import math as m\n",
    "import scipy.stats as st\n",
    "import matplotlib.pyplot as plt"
   ],
   "metadata": {
    "collapsed": false,
    "pycharm": {
     "name": "#%%\n"
    }
   }
  },
  {
   "cell_type": "markdown",
   "source": [
    "## Sampling Distributions"
   ],
   "metadata": {
    "collapsed": false
   }
  },
  {
   "cell_type": "markdown",
   "source": [
    "### Example 1\n",
    "\n",
    "The time it takes a randomly selected rat to find its way through a maze is a normally distributed random variable with $\\mu = 1.5$ minutes and \n",
    "$\\sigma = 0.35$ minutes. Suppose five rats are randomly selected and their times are denoted by $X_1$, $X_2$, $X_3$, $X_4$, $X_5$.\n",
    "\n",
    "Determine the probability that the sample average time $\\bar{X}$ is at most $1.8$ minutes?"
   ],
   "metadata": {
    "collapsed": false
   }
  },
  {
   "cell_type": "code",
   "execution_count": 2,
   "outputs": [],
   "source": [
    "def Z(xbar, mu, sig):\n",
    "    return (xbar - mu) / sig\n",
    "\n",
    "def Z_sd(xbar, mu, s, n):\n",
    "    return (xbar - mu) / (s / m.sqrt(n))"
   ],
   "metadata": {
    "collapsed": false,
    "pycharm": {
     "name": "#%%\n"
    }
   }
  },
  {
   "cell_type": "code",
   "execution_count": 3,
   "outputs": [
    {
     "data": {
      "text/plain": "0.972358"
     },
     "execution_count": 3,
     "metadata": {},
     "output_type": "execute_result"
    }
   ],
   "source": [
    "mu    = 1.5\n",
    "sig   = 0.35\n",
    "n     = 5\n",
    "\n",
    "x_bar = 1.8\n",
    "\n",
    "round(st.norm.cdf(Z_sd(x_bar, mu, sig, n)), 6)\n"
   ],
   "metadata": {
    "collapsed": false,
    "pycharm": {
     "name": "#%%\n"
    }
   }
  },
  {
   "cell_type": "markdown",
   "source": [
    "### Example 2\n",
    "\n",
    "When a batch of a certain chemical product is prepared, the amount of a particular impurity in the batch is a random variable with mean $4.0g$ and standard deviation $1.5g$. If $50$ batches are independently prepared, what is the probability that the sample average amount of impurity is between $3.5$ and $3.8$?"
   ],
   "metadata": {
    "collapsed": false
   }
  },
  {
   "cell_type": "code",
   "execution_count": 4,
   "outputs": [
    {
     "data": {
      "text/plain": "0.163678"
     },
     "execution_count": 4,
     "metadata": {},
     "output_type": "execute_result"
    }
   ],
   "source": [
    "mu = 4.0\n",
    "sd = 1.5\n",
    "n  = 50\n",
    "\n",
    "a = 3.5\n",
    "b = 3.8\n",
    "\n",
    "# Since n >= 30, we can assume normal distribution\n",
    "round(st.norm.cdf(Z_sd(b, mu, sd, n)) - st.norm.cdf(Z_sd(a, mu, sd, n)), 6)"
   ],
   "metadata": {
    "collapsed": false,
    "pycharm": {
     "name": "#%%\n"
    }
   }
  },
  {
   "cell_type": "markdown",
   "source": [
    "### Example 3\n",
    "\n",
    "Suppose only $40\\%$ of all drivers in a certain state regularly wear a seatbelt. A random sample of $500$ drivers is selected. What is the probability that the total expected number of drivers who wear a seat belt is\n",
    "\n",
    "1. Between $180$ and $230$\n",
    "\n",
    "2. At most $175$\n",
    "\n",
    "3. At least $190$"
   ],
   "metadata": {
    "collapsed": false
   }
  },
  {
   "cell_type": "code",
   "execution_count": 5,
   "outputs": [],
   "source": [
    "def assume_normal(n, pi):\n",
    "    return (n*pi >= 10) and (n*(1 - pi) >= 10)\n",
    "\n",
    "def samp_mu(n, pi):\n",
    "    return n * pi\n",
    "\n",
    "def samp_sd(n, pi):\n",
    "    return m.sqrt(n * pi * (1 - pi))"
   ],
   "metadata": {
    "collapsed": false,
    "pycharm": {
     "name": "#%%\n"
    }
   }
  },
  {
   "cell_type": "code",
   "execution_count": 6,
   "outputs": [
    {
     "data": {
      "text/plain": "True"
     },
     "execution_count": 6,
     "metadata": {},
     "output_type": "execute_result"
    }
   ],
   "source": [
    "pi = 0.4\n",
    "n  = 500\n",
    "\n",
    "assume_normal(n, pi)"
   ],
   "metadata": {
    "collapsed": false,
    "pycharm": {
     "name": "#%%\n"
    }
   }
  },
  {
   "cell_type": "code",
   "execution_count": 7,
   "outputs": [],
   "source": [
    "# Since we can assume normality:\n",
    "mu = samp_mu(n, pi)\n",
    "sd = samp_sd(n, pi)"
   ],
   "metadata": {
    "collapsed": false,
    "pycharm": {
     "name": "#%%\n"
    }
   }
  },
  {
   "cell_type": "code",
   "execution_count": 8,
   "outputs": [
    {
     "data": {
      "text/plain": "0.96297"
     },
     "execution_count": 8,
     "metadata": {},
     "output_type": "execute_result"
    }
   ],
   "source": [
    "# 1. \n",
    "a = 180\n",
    "b = 230\n",
    "\n",
    "round(st.norm.cdf(Z(b, mu, sd)) - st.norm.cdf(Z(a, mu, sd)), 6)"
   ],
   "metadata": {
    "collapsed": false,
    "pycharm": {
     "name": "#%%\n"
    }
   }
  },
  {
   "cell_type": "code",
   "execution_count": 9,
   "outputs": [
    {
     "data": {
      "text/plain": "0.011239"
     },
     "execution_count": 9,
     "metadata": {},
     "output_type": "execute_result"
    }
   ],
   "source": [
    "# 2.\n",
    "x_bar = 175\n",
    "\n",
    "round(st.norm.cdf(Z(x_bar, mu, sd)), 6)"
   ],
   "metadata": {
    "collapsed": false,
    "pycharm": {
     "name": "#%%\n"
    }
   }
  },
  {
   "cell_type": "code",
   "execution_count": 10,
   "outputs": [
    {
     "data": {
      "text/plain": "0.819345"
     },
     "execution_count": 10,
     "metadata": {},
     "output_type": "execute_result"
    }
   ],
   "source": [
    "# 3.\n",
    "x_bar = 190\n",
    "\n",
    "round(1 - st.norm.cdf(Z(x_bar, mu, sd)), 6)"
   ],
   "metadata": {
    "collapsed": false,
    "pycharm": {
     "name": "#%%\n"
    }
   }
  },
  {
   "cell_type": "markdown",
   "source": [
    "## Probability Plots"
   ],
   "metadata": {
    "collapsed": false
   }
  },
  {
   "cell_type": "markdown",
   "source": [
    "### Example 1\n",
    "\n",
    "- See the data set tablet_size.txt\n",
    "- Would you say this data comes from a Normal distribution?\n",
    "- Would you say this data comes from a Weibull distribution?"
   ],
   "metadata": {
    "collapsed": false
   }
  },
  {
   "cell_type": "code",
   "execution_count": 11,
   "outputs": [],
   "source": [
    "filename = \"tablet_weight.csv\"\n",
    "\n",
    "weights = []\n",
    "with open(filename, 'r') as myFile:\n",
    "    for line in myFile:\n",
    "        weights.append(float(line))"
   ],
   "metadata": {
    "collapsed": false,
    "pycharm": {
     "name": "#%%\n"
    }
   }
  },
  {
   "cell_type": "code",
   "execution_count": null,
   "outputs": [],
   "source": [
    "st.probplot(weights, plot=plt)\n",
    "plt.show()\n",
    "\n",
    "# yes normal, idfk weibull"
   ],
   "metadata": {
    "collapsed": false,
    "pycharm": {
     "name": "#%%\n"
    }
   }
  }
 ],
 "metadata": {
  "kernelspec": {
   "display_name": "Python 3",
   "language": "python",
   "name": "python3"
  },
  "language_info": {
   "codemirror_mode": {
    "name": "ipython",
    "version": 2
   },
   "file_extension": ".py",
   "mimetype": "text/x-python",
   "name": "python",
   "nbconvert_exporter": "python",
   "pygments_lexer": "ipython2",
   "version": "3.8.2-final"
  }
 },
 "nbformat": 4,
 "nbformat_minor": 0
}