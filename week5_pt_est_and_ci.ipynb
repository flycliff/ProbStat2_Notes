{
 "metadata": {
  "language_info": {
   "codemirror_mode": {
    "name": "ipython",
    "version": 3
   },
   "file_extension": ".py",
   "mimetype": "text/x-python",
   "name": "python",
   "nbconvert_exporter": "python",
   "pygments_lexer": "ipython3",
   "version": "3.8.2-final"
  },
  "orig_nbformat": 2,
  "kernelspec": {
   "name": "Python 3.8.2 64-bit",
   "display_name": "Python 3.8.2 64-bit",
   "metadata": {
    "interpreter": {
     "hash": "31f2aee4e71d21fbe5cf8b01ff0e069b9275f58929596ceb00d14d90e3e16cd6"
    }
   }
  }
 },
 "nbformat": 4,
 "nbformat_minor": 2,
 "cells": [
  {
   "source": [
    "# MATH252 Probability and Statistics II\n",
    "# Week 5 - Point Estimates and Confidence Intervals\n",
    "Rochester Institute of Technology\n",
    "\n",
    "Fall 2020\n",
    "\n",
    "Will Clifford"
   ],
   "cell_type": "markdown",
   "metadata": {}
  },
  {
   "cell_type": "code",
   "execution_count": 8,
   "metadata": {},
   "outputs": [],
   "source": [
    "import math as m\n",
    "import scipy.stats as st\n",
    "import matplotlib.pyplot as plt"
   ]
  },
  {
   "source": [
    "### Standard Error of $\\bar{X}$\n"
   ],
   "cell_type": "markdown",
   "metadata": {}
  },
  {
   "source": [
    "Suppose we are sampling from a normal distribution with mean $\\mu$ and variance $\\sigma^2$. The distribution of $\\bar{X}$ is normal with mean $\\mu$ and variance $\\frac{\\sigma^2}{n}$, so the standard error of $\\bar{X}$ is $$\\sigma_{\\bar{x}}=\\frac{\\sigma}{\\sqrt{n}}$$"
   ],
   "cell_type": "markdown",
   "metadata": {}
  },
  {
   "cell_type": "code",
   "execution_count": 9,
   "metadata": {},
   "outputs": [],
   "source": [
    "def standard_error_norm(sig, n):\n",
    "    return sig / m.sqrt(n)"
   ]
  },
  {
   "source": [
    "If we don't know but $\\sigma$ but substituted the sample standard deviation $s$ into the preceding equation, the estimated standard error of $\\bar{X}$ would be\n",
    "$$SE(\\bar{X})=\\hat{\\sigma_{\\bar{x}}}=\\frac{s}{\\sqrt{n}}$$"
   ],
   "cell_type": "markdown",
   "metadata": {}
  },
  {
   "cell_type": "code",
   "execution_count": 10,
   "metadata": {},
   "outputs": [],
   "source": [
    "def standard_error_sample(s, n):\n",
    "    return s / m.sqrt(n)"
   ]
  },
  {
   "source": [
    "### Confidence Intervals\n",
    "\n",
    "*[(code)](https://gist.github.com/mnguyenngo/3e0695c138c567852cff966c19ea0354)*\n",
    "\n",
    "If $X$ is normally distributed and we know the population $\\sigma$, \n",
    "\n",
    "OR\n",
    "\n",
    "If $n>30$ and we know population $\\sigma$,\n",
    "\n",
    "OR\n",
    "\n",
    "If $n>100$ and we DON'T know population $\\sigma$ but substitute sample standard deviation $s$, then:\n"
   ],
   "cell_type": "markdown",
   "metadata": {}
  },
  {
   "cell_type": "code",
   "execution_count": 11,
   "metadata": {},
   "outputs": [],
   "source": [
    "def Z(xbar, mu, sig):\n",
    "    return (xbar - mu) / sig\n",
    "\n",
    "def Z_norm(xbar, mu, sig, n):\n",
    "    return (xbar - mu) / (sig / m.sqrt(n))\n",
    "\n",
    "def z_val(sig_level=0.05, two_tailed=True):\n",
    "    \"\"\"Returns the z value for a given significance level\"\"\"\n",
    "    z_dist = st.norm()\n",
    "    if two_tailed:\n",
    "        sig_level = sig_level/2\n",
    "        area = 1 - sig_level\n",
    "    else:\n",
    "        area = 1 - sig_level\n",
    "\n",
    "    z = z_dist.ppf(area)\n",
    "\n",
    "    return z"
   ]
  },
  {
   "cell_type": "code",
   "execution_count": 37,
   "metadata": {},
   "outputs": [],
   "source": [
    "def CI(xbar, sig, n, level=0.05, twoTailed=True):\n",
    "    z = z_val(level, twoTailed)\n",
    "    print(\"z =\", z)\n",
    "    upper = xbar + z*sig/m.sqrt(n)\n",
    "    lower = xbar - z*sig/m.sqrt(n)\n",
    "    if twoTailed:\n",
    "        return lower, upper\n",
    "    else:\n",
    "        return lower\n",
    "\n",
    "def CI_alt(xbar, sig, n, level=0.05, twoTailed=True):\n",
    "    z = z_val(level, twoTailed)\n",
    "    print(\"z =\", z)\n",
    "    upper = xbar + z*sig\n",
    "    lower = xbar - z*sig\n",
    "    if twoTailed:\n",
    "        return lower, upper\n",
    "    else:\n",
    "        return lower"
   ]
  },
  {
   "cell_type": "code",
   "execution_count": 25,
   "metadata": {},
   "outputs": [
    {
     "output_type": "stream",
     "name": "stdout",
     "text": [
      "(63.840204967695435, 65.07979503230456)\n"
     ]
    }
   ],
   "source": [
    "alpha = 0.05\n",
    "n = 10\n",
    "xbar = 64.46\n",
    "sig = 1\n",
    "\n",
    "print(CI(xbar, sig, n))"
   ]
  },
  {
   "cell_type": "code",
   "execution_count": 26,
   "metadata": {},
   "outputs": [
    {
     "output_type": "stream",
     "name": "stdout",
     "text": [
      "63.939851612124436\n"
     ]
    }
   ],
   "source": [
    "xbar  = 64.46\n",
    "sig   = 1\n",
    "n     = 10\n",
    "alpha = 0.05\n",
    "\n",
    "print(CI(xbar, sig, n, alpha, twoTailed=False))\n"
   ]
  },
  {
   "source": [
    "### T Distribution\n",
    "\n",
    "$n$ is small, and the value for the population standard deviation $\\sigma$ is\n",
    "NOT KNOWN, we can use the sample standard deviation $s$, then:"
   ],
   "cell_type": "markdown",
   "metadata": {}
  },
  {
   "cell_type": "code",
   "execution_count": 29,
   "metadata": {},
   "outputs": [],
   "source": [
    "def t(v, twoTailed=True):\n",
    "    if twoTailed:\n",
    "        return st.t.ppf(q=1-.05/2, df=v)\n",
    "    else:\n",
    "        return st.t.ppf(q=1-.05,   df=v)\n"
   ]
  },
  {
   "source": [
    "### CI for pi Std Norm Dist"
   ],
   "cell_type": "markdown",
   "metadata": {}
  },
  {
   "cell_type": "code",
   "execution_count": 39,
   "metadata": {},
   "outputs": [
    {
     "output_type": "stream",
     "name": "stdout",
     "text": [
      "z = 2.5758293035489004\n(0.027631139198720178, 0.20766297844833864)\n"
     ]
    }
   ],
   "source": [
    "n = 85\n",
    "X = 10\n",
    "phat = X / n\n",
    "sig = m.sqrt((phat*(1-phat))/n)\n",
    "z = z_val()\n",
    "\n",
    "print(CI_alt(phat, sig, n, level=0.01, twoTailed=True))"
   ]
  },
  {
   "cell_type": "code",
   "execution_count": null,
   "metadata": {},
   "outputs": [],
   "source": []
  }
 ]
}