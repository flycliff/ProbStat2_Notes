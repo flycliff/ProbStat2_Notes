{
 "metadata": {
  "language_info": {
   "codemirror_mode": {
    "name": "ipython",
    "version": 3
   },
   "file_extension": ".py",
   "mimetype": "text/x-python",
   "name": "python",
   "nbconvert_exporter": "python",
   "pygments_lexer": "ipython3",
   "version": "3.8.2-final"
  },
  "orig_nbformat": 2,
  "kernelspec": {
   "name": "Python 3.8.2 64-bit",
   "display_name": "Python 3.8.2 64-bit",
   "metadata": {
    "interpreter": {
     "hash": "31f2aee4e71d21fbe5cf8b01ff0e069b9275f58929596ceb00d14d90e3e16cd6"
    }
   }
  }
 },
 "nbformat": 4,
 "nbformat_minor": 2,
 "cells": [
  {
   "source": [
    "# MATH252 Probability and Statistics II\n",
    "# Week 6 - One Sample Inference for Means\n",
    "\n",
    "Rochester Institute of Technology\n",
    "\n",
    "Fall 2020\n",
    "\n",
    "Will Clifford"
   ],
   "cell_type": "markdown",
   "metadata": {}
  },
  {
   "cell_type": "code",
   "execution_count": 1,
   "metadata": {},
   "outputs": [],
   "source": [
    "import math as m\n",
    "import scipy.stats as st\n",
    "import matplotlib.pyplot as plt"
   ]
  },
  {
   "cell_type": "code",
   "execution_count": 11,
   "metadata": {},
   "outputs": [],
   "source": [
    "def Z(xbar, mu, sig):\n",
    "    return (xbar - mu) / sig\n",
    "\n",
    "def Z_sd(xbar, mu, s, n):\n",
    "    return (xbar - mu) / (s / m.sqrt(n))\n",
    "\n",
    "def t(v, a, twoTailed=True):\n",
    "    if twoTailed:\n",
    "        return st.t.ppf(q=1-a/2, df=v)\n",
    "    else:\n",
    "        return st.t.ppf(q=1-a,   df=v)"
   ]
  },
  {
   "source": [
    "### Hypothesis Testing"
   ],
   "cell_type": "markdown",
   "metadata": {}
  },
  {
   "cell_type": "code",
   "execution_count": 3,
   "metadata": {},
   "outputs": [],
   "source": [
    "def p_value_g(z):\n",
    "    return 1 - st.norm.cdf(z)\n",
    "\n",
    "def p_value_l(z):\n",
    "    return st.norm.cdf(z)\n",
    "\n",
    "def p_value_eq(z):\n",
    "    return 2 * p_value_g(abs(z))\n",
    "\n",
    "\n",
    "def reject(alpha, p_value):\n",
    "    return p_value <= alpha"
   ]
  },
  {
   "cell_type": "code",
   "execution_count": 5,
   "metadata": {},
   "outputs": [
    {
     "output_type": "stream",
     "name": "stdout",
     "text": [
      "Reject?: True\n"
     ]
    }
   ],
   "source": [
    "n  = 9\n",
    "mu = 130\n",
    "sd = 1.5\n",
    "a  = 0.05\n",
    "\n",
    "print(\"Reject?:\", reject(a, p_value_eq(Z_sd(131.078, mu, sd, n))))"
   ]
  },
  {
   "cell_type": "code",
   "execution_count": 13,
   "metadata": {},
   "outputs": [
    {
     "output_type": "stream",
     "name": "stdout",
     "text": [
      "2.624494067560231\nReject?: False\n"
     ]
    }
   ],
   "source": [
    "n = 15\n",
    "alpha = 0.01\n",
    "mu = 0.85\n",
    "xbar = 0.83724\n",
    "s = 0.02456\n",
    "\n",
    "print(t(n-1, alpha, twoTailed=False))\n",
    "print(\"Reject?:\", reject(alpha, t(n-1, alpha)))"
   ]
  },
  {
   "cell_type": "code",
   "execution_count": null,
   "metadata": {},
   "outputs": [],
   "source": []
  }
 ]
}